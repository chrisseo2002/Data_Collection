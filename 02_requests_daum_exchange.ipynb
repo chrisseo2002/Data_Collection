{
 "cells": [
  {
   "cell_type": "markdown",
   "id": "ce44dd79",
   "metadata": {},
   "source": [
    "### Daum Exchange\n",
    "- `https://finance.daum.net`"
   ]
  },
  {
   "cell_type": "code",
   "execution_count": 1,
   "id": "bcf5c3fb",
   "metadata": {},
   "outputs": [],
   "source": [
    "import warnings\n",
    "warnings.filterwarnings('ignore')\n",
    "import pandas as pd\n",
    "import requests"
   ]
  },
  {
   "cell_type": "code",
   "execution_count": 2,
   "id": "9ba39dde",
   "metadata": {},
   "outputs": [],
   "source": [
    "url = 'https://finance.daum.net/api/exchanges/summaries'"
   ]
  },
  {
   "cell_type": "code",
   "execution_count": 6,
   "id": "ded95386",
   "metadata": {},
   "outputs": [
    {
     "data": {
      "text/plain": [
       "<Response [200]>"
      ]
     },
     "execution_count": 6,
     "metadata": {},
     "output_type": "execute_result"
    }
   ],
   "source": [
    "header = {'User-Agent':'Mozilla/5.0 (Windows NT 10.0; Win64; x64) AppleWebKit/537.36 (KHTML, like Gecko) Chrome/115.0.0.0 Safari/537.36',\n",
    "          'Referer':'https://finance.daum.net/exchanges'}\n",
    "response = requests.get(url, headers=header)\n",
    "response"
   ]
  },
  {
   "cell_type": "code",
   "execution_count": 12,
   "id": "4de8a553",
   "metadata": {},
   "outputs": [
    {
     "data": {
      "text/plain": [
       "'{\"data\":[{\"symbolCode\":\"FRX.KRWUSD\",\"date\":\"2023-09-04 16:53:55\",\"currencyCode\":\"USD\",\"currencyName\"'"
      ]
     },
     "execution_count": 12,
     "metadata": {},
     "output_type": "execute_result"
    }
   ],
   "source": [
    "response.text[:100]"
   ]
  },
  {
   "cell_type": "code",
   "execution_count": 14,
   "id": "f49a00b6",
   "metadata": {},
   "outputs": [
    {
     "data": {
      "text/html": [
       "<div>\n",
       "<style scoped>\n",
       "    .dataframe tbody tr th:only-of-type {\n",
       "        vertical-align: middle;\n",
       "    }\n",
       "\n",
       "    .dataframe tbody tr th {\n",
       "        vertical-align: top;\n",
       "    }\n",
       "\n",
       "    .dataframe thead th {\n",
       "        text-align: right;\n",
       "    }\n",
       "</style>\n",
       "<table border=\"1\" class=\"dataframe\">\n",
       "  <thead>\n",
       "    <tr style=\"text-align: right;\">\n",
       "      <th></th>\n",
       "      <th>symbolCode</th>\n",
       "      <th>currencyCode</th>\n",
       "      <th>basePrice</th>\n",
       "    </tr>\n",
       "  </thead>\n",
       "  <tbody>\n",
       "    <tr>\n",
       "      <th>0</th>\n",
       "      <td>FRX.KRWUSD</td>\n",
       "      <td>USD</td>\n",
       "      <td>1320.50</td>\n",
       "    </tr>\n",
       "    <tr>\n",
       "      <th>1</th>\n",
       "      <td>FRX.KRWJPY</td>\n",
       "      <td>JPY</td>\n",
       "      <td>901.70</td>\n",
       "    </tr>\n",
       "    <tr>\n",
       "      <th>2</th>\n",
       "      <td>FRX.KRWCNY</td>\n",
       "      <td>CNY</td>\n",
       "      <td>181.52</td>\n",
       "    </tr>\n",
       "    <tr>\n",
       "      <th>3</th>\n",
       "      <td>FRX.KRWEUR</td>\n",
       "      <td>EUR</td>\n",
       "      <td>1426.14</td>\n",
       "    </tr>\n",
       "    <tr>\n",
       "      <th>4</th>\n",
       "      <td>FRX.KRWGBP</td>\n",
       "      <td>GBP</td>\n",
       "      <td>1667.00</td>\n",
       "    </tr>\n",
       "  </tbody>\n",
       "</table>\n",
       "</div>"
      ],
      "text/plain": [
       "   symbolCode currencyCode  basePrice\n",
       "0  FRX.KRWUSD          USD    1320.50\n",
       "1  FRX.KRWJPY          JPY     901.70\n",
       "2  FRX.KRWCNY          CNY     181.52\n",
       "3  FRX.KRWEUR          EUR    1426.14\n",
       "4  FRX.KRWGBP          GBP    1667.00"
      ]
     },
     "execution_count": 14,
     "metadata": {},
     "output_type": "execute_result"
    }
   ],
   "source": [
    "df = pd.DataFrame(response.json()['data'])[['symbolCode', 'currencyCode', 'basePrice']]\n",
    "df.head()"
   ]
  }
 ],
 "metadata": {
  "kernelspec": {
   "display_name": "Python 3 (ipykernel)",
   "language": "python",
   "name": "python3"
  },
  "language_info": {
   "codemirror_mode": {
    "name": "ipython",
    "version": 3
   },
   "file_extension": ".py",
   "mimetype": "text/x-python",
   "name": "python",
   "nbconvert_exporter": "python",
   "pygments_lexer": "ipython3",
   "version": "3.11.3"
  }
 },
 "nbformat": 4,
 "nbformat_minor": 5
}
